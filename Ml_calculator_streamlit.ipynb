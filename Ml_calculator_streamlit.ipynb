{
 "cells": [
  {
   "cell_type": "code",
   "execution_count": 19,
   "metadata": {},
   "outputs": [],
   "source": [
    "import streamlit"
   ]
  },
  {
   "cell_type": "code",
   "execution_count": 22,
   "metadata": {},
   "outputs": [
    {
     "ename": "AttributeError",
     "evalue": "module 'pickle' has no attribute '__version__'",
     "output_type": "error",
     "traceback": [
      "\u001b[0;31m---------------------------------------------------------------------------\u001b[0m",
      "\u001b[0;31mAttributeError\u001b[0m                            Traceback (most recent call last)",
      "\u001b[0;32m<ipython-input-22-0f3b72258771>\u001b[0m in \u001b[0;36m<module>\u001b[0;34m\u001b[0m\n\u001b[0;32m----> 1\u001b[0;31m \u001b[0mpickle\u001b[0m\u001b[0;34m.\u001b[0m\u001b[0m__version__\u001b[0m\u001b[0;34m\u001b[0m\u001b[0;34m\u001b[0m\u001b[0m\n\u001b[0m",
      "\u001b[0;31mAttributeError\u001b[0m: module 'pickle' has no attribute '__version__'"
     ]
    }
   ],
   "source": [
    "pickle.__version__"
   ]
  },
  {
   "cell_type": "code",
   "execution_count": 15,
   "metadata": {},
   "outputs": [
    {
     "name": "stderr",
     "output_type": "stream",
     "text": [
      "2022-09-21 09:36:27.156 \n",
      "  \u001b[33m\u001b[1mWarning:\u001b[0m to view this Streamlit app on a browser, run it with the following\n",
      "  command:\n",
      "\n",
      "    streamlit run /Users/guillem/opt/anaconda3/lib/python3.8/site-packages/ipykernel_launcher.py [ARGUMENTS]\n"
     ]
    }
   ],
   "source": [
    "import streamlit as st\n",
    "\n",
    "# load model\n",
    "import pickle\n",
    "loaded_model = pickle.load(open('models/knn_calculator.sav', 'rb'))\n",
    "\n",
    "model_name = str(loaded_model.get_params()[\"estimator\"])\n",
    "param_combinations = str(loaded_model.get_params()[\"n_iter\"])\n",
    "\n",
    "string = \"A \" + model_name + \" model was trained with \" + param_combinations + \" combinations of parameters to learn how to sum. Try it out!\"\n",
    "\n",
    "\n",
    "\n",
    "st.title(\"Machine Learning Calculator\")\n",
    " \n",
    "st.write(\"\"\"\n",
    "### Project description\n",
    "\"\"\" + string)\n",
    "\n",
    "\n",
    " \n",
    "# new house with fake data\n",
    "import pandas as pd\n",
    "input1 = st.number_input(\"Number 1\")\n",
    "input2 = st.number_input(\"Number 2\")\n",
    "\n",
    "input_df = pd.DataFrame({\"n1\":[input1], \"n2\":[input2]})\n",
    " \n",
    "# prediction\n",
    "st.write(\"The result of your sum as calculated by Machine Learning is: \", loaded_model.predict(input_df))"
   ]
  }
 ],
 "metadata": {
  "kernelspec": {
   "display_name": "Python 3",
   "language": "python",
   "name": "python3"
  },
  "language_info": {
   "codemirror_mode": {
    "name": "ipython",
    "version": 3
   },
   "file_extension": ".py",
   "mimetype": "text/x-python",
   "name": "python",
   "nbconvert_exporter": "python",
   "pygments_lexer": "ipython3",
   "version": "3.8.5"
  }
 },
 "nbformat": 4,
 "nbformat_minor": 4
}
